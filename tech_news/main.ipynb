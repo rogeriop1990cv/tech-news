{
 "cells": [
  {
   "cell_type": "code",
   "execution_count": 1,
   "metadata": {},
   "outputs": [],
   "source": [
    "import scraper"
   ]
  },
  {
   "cell_type": "code",
   "execution_count": 2,
   "metadata": {},
   "outputs": [],
   "source": [
    "BASE_URL = \"https://blog.betrybe.com/\"\n",
    "result = scraper.fetch(BASE_URL)"
   ]
  },
  {
   "cell_type": "code",
   "execution_count": null,
   "metadata": {},
   "outputs": [],
   "source": [
    "list_news = scraper.scrape_novidades(result)"
   ]
  },
  {
   "cell_type": "code",
   "execution_count": null,
   "metadata": {},
   "outputs": [],
   "source": [
    "result_new = scraper.scrape_noticia(scraper.fetch(list_news[0]))"
   ]
  },
  {
   "cell_type": "code",
   "execution_count": null,
   "metadata": {},
   "outputs": [],
   "source": [
    "print(scraper.scrape_next_page_link(result))"
   ]
  },
  {
   "cell_type": "code",
   "execution_count": null,
   "metadata": {},
   "outputs": [],
   "source": [
    "print(result_new)"
   ]
  },
  {
   "cell_type": "code",
   "execution_count": 4,
   "metadata": {},
   "outputs": [],
   "source": [
    "news_dict_list = scraper.get_tech_news(2)"
   ]
  },
  {
   "cell_type": "code",
   "execution_count": 5,
   "metadata": {},
   "outputs": [
    {
     "name": "stdout",
     "output_type": "stream",
     "text": [
      "[{'url': 'https://blog.betrybe.com/carreira/demissao-sem-justa-causa/', 'title': 'Demissão sem justa causa: direitos, motivos e como funciona', 'timestamp': '08/08/2022', 'writer': 'Lucas Custódio', 'comments_count': 0, 'summary': 'O processo de demissão pode acontecer por diversas razões. Geralmente, as razões mais comuns envolvem uma inadequação da pessoa colaboradora no ambiente de trabalho, o que ocasiona uma dispensa por justa causa, ou quando a pessoa decide fazer um pedido de demissão. Porém, você sabia que a empresa pode dispensar uma pessoa colaboradora sem um motivo para isso? Conheça a demissão sem justa causa!', 'tags': [], 'category': 'Carreira'}, {'url': 'https://blog.betrybe.com/tecnologia/aprendizado-supervisionado-aplicacao/', 'title': 'Aprendizado supervisionado: 7 exemplos sobre como aplicar', 'timestamp': '05/08/2022', 'writer': 'Vinicius Martins', 'comments_count': 0, 'summary': 'Qualquer pessoa usuária de tecnologia se beneficia do machine learning (aprendizado de máquina): a tecnologia de reconhecimento facial permite que as plataformas de mídia social ajudem na marcação e compartilhamento de fotos, o reconhecimento óptico de caracteres (OCR) converte imagens de texto em tipos móveis, entre outros.', 'tags': [], 'category': 'Tecnologia'}]\n"
     ]
    }
   ],
   "source": [
    "print(news_dict_list)"
   ]
  }
 ],
 "metadata": {
  "kernelspec": {
   "display_name": "Python 3.8.10 ('.venv': venv)",
   "language": "python",
   "name": "python3"
  },
  "language_info": {
   "codemirror_mode": {
    "name": "ipython",
    "version": 3
   },
   "file_extension": ".py",
   "mimetype": "text/x-python",
   "name": "python",
   "nbconvert_exporter": "python",
   "pygments_lexer": "ipython3",
   "version": "3.8.10"
  },
  "orig_nbformat": 4,
  "vscode": {
   "interpreter": {
    "hash": "11e29bc4663f65d342698bbd4bc891a32aa5a0dead6bc292877f289b10a67154"
   }
  }
 },
 "nbformat": 4,
 "nbformat_minor": 2
}
